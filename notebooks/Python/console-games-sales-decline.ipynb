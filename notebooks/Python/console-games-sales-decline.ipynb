{
 "cells": [
  {
   "cell_type": "markdown",
   "metadata": {},
   "source": [
    "# Console Games Sales Decline "
   ]
  },
  {
   "cell_type": "markdown",
   "metadata": {},
   "source": [
    "You have been hired to join the in-house Data Science team of a video games design company. The company designs games for computers but is considering getting into the console games business.\n",
    "\n",
    "Note: consoles refer to devices that are attached to TV’s. For example, Play Station.\n",
    "\n",
    "However, the executives of the company have noticed that other rival console games design companies have been suffering increasing losses in the past couple of years. That’s why they want you to investigate the state of the industry to help them make the decision of whether to get into this business.\n",
    "\n",
    "On the Case Study page you will find a dataset with over 16,000 console game titles sold between 1980 and 2015. Sales are broken down into 4 regions and are shown in Millions of Dollars.\n",
    "\n",
    "The CSO (Chief Strategy Officer) has posed you the following questions:\n",
    "1.  How have the total sales of console games been declining over the years by different genres?\n",
    "2.  How do different platforms compare side-by-side in terms of aggregate global sales since their inceptions? Who is the leader?\n",
    "3.  How do different publishers compare side-by-side in terms of aggregate global sales since their inceptions? Who is the leader?\n",
    "4.  How do the New Generation (New Gen) consoles compare in terms of total global sales for combined 2014 and 2015? New Gen platforms in this dataset are PS4, XOne and WiiU.\n",
    "5.  What are the top 10 game titles with the highest global sales?"
   ]
  },
  {
   "cell_type": "markdown",
   "metadata": {},
   "source": [
    "## Credits"
   ]
  },
  {
   "cell_type": "markdown",
   "metadata": {},
   "source": [
    "This notebook is a part of my learning path based on the workshop [Case Study 001 : [Tableau] Console Games Sales Decline](https://www.superdatascience.com/casestudy001/) presented on [Super Data Science](http://www.superdatascience.com) platform.\n",
    "\n",
    "SuperDataScience team publish a lot of courses (available on the [Udemy](https://www.udemy.com) platform) taught by [Kirill Eremenko](https://www.udemy.com/user/kirilleremenko/) and [Hadelin de Ponteves](https://www.udemy.com/user/hadelin-de-ponteves/) in the wide space of Data Science.\n",
    "\n",
    "Here are the most valuable one in the field of Data Science, Machine Learning and Deep Learning:\n",
    "1. [Data Science A-Z™: Real-Life Data Science Exercises Included](https://www.udemy.com/datascience/learn/v4/overview)\n",
    "2. [Python A-Z™: Python For Data Science With Real Exercises!](https://www.udemy.com/python-coding/learn/v4/overview)\n",
    "3. [R Programming A-Z™: R For Data Science With Real Exercises!](https://www.udemy.com/r-programming/learn/v4/overview)\n",
    "4. [Machine Learning A-Z™: Hands-On Python & R In Data Science](https://www.udemy.com/machinelearning/learn/v4/overview)\n",
    "5. [Deep Learning A-Z™: Hands-On Artificial Neural Networks](https://www.udemy.com/deeplearning/learn/v4/overview)\n",
    "6. [Artificial Intelligence A-Z™: Learn How To Build An AI](https://www.udemy.com/artificial-intelligence-az/learn/v4/overview)"
   ]
  },
  {
   "cell_type": "markdown",
   "metadata": {
    "collapsed": true
   },
   "source": [
    "## Preparation"
   ]
  },
  {
   "cell_type": "markdown",
   "metadata": {},
   "source": [
    "**Import libraries**"
   ]
  },
  {
   "cell_type": "code",
   "execution_count": 1,
   "metadata": {},
   "outputs": [],
   "source": [
    "import numpy as np\n",
    "import pandas as pd\n",
    "\n",
    "import matplotlib\n",
    "import matplotlib.pyplot as plt\n",
    "import seaborn as sns\n",
    "%matplotlib inline\n",
    "\n",
    "# Use Seaborn styles.\n",
    "# See 'Controlling figure aesthetics': https://seaborn.pydata.org/tutorial/aesthetics.html\n",
    "sns.set()\n",
    "sns.set_style('darkgrid')"
   ]
  },
  {
   "cell_type": "markdown",
   "metadata": {},
   "source": [
    "**Load the data**"
   ]
  },
  {
   "cell_type": "code",
   "execution_count": 2,
   "metadata": {},
   "outputs": [],
   "source": [
    "df = pd.read_csv(\"../../data/ConsoleGames.csv\")\n",
    "# See '10 Minutes to pandas': https://pandas.pydata.org/pandas-docs/stable/10min.html"
   ]
  },
  {
   "cell_type": "markdown",
   "metadata": {},
   "source": [
    "**Check the structure of the data**\n",
    "\n",
    "First, let's get a feel of what our data look like."
   ]
  },
  {
   "cell_type": "code",
   "execution_count": 3,
   "metadata": {},
   "outputs": [
    {
     "data": {
      "text/html": [
       "<div>\n",
       "<style>\n",
       "    .dataframe thead tr:only-child th {\n",
       "        text-align: right;\n",
       "    }\n",
       "\n",
       "    .dataframe thead th {\n",
       "        text-align: left;\n",
       "    }\n",
       "\n",
       "    .dataframe tbody tr th {\n",
       "        vertical-align: top;\n",
       "    }\n",
       "</style>\n",
       "<table border=\"1\" class=\"dataframe\">\n",
       "  <thead>\n",
       "    <tr style=\"text-align: right;\">\n",
       "      <th></th>\n",
       "      <th>Rank</th>\n",
       "      <th>Name</th>\n",
       "      <th>Platform</th>\n",
       "      <th>Year</th>\n",
       "      <th>Genre</th>\n",
       "      <th>Publisher</th>\n",
       "      <th>NA_Sales</th>\n",
       "      <th>EU_Sales</th>\n",
       "      <th>JP_Sales</th>\n",
       "      <th>Other_Sales</th>\n",
       "    </tr>\n",
       "  </thead>\n",
       "  <tbody>\n",
       "    <tr>\n",
       "      <th>0</th>\n",
       "      <td>1</td>\n",
       "      <td>Wii Sports</td>\n",
       "      <td>Wii</td>\n",
       "      <td>2006</td>\n",
       "      <td>Sports</td>\n",
       "      <td>Nintendo</td>\n",
       "      <td>41.49</td>\n",
       "      <td>29.02</td>\n",
       "      <td>3.77</td>\n",
       "      <td>8.46</td>\n",
       "    </tr>\n",
       "    <tr>\n",
       "      <th>1</th>\n",
       "      <td>2</td>\n",
       "      <td>Super Mario Bros.</td>\n",
       "      <td>NES</td>\n",
       "      <td>1985</td>\n",
       "      <td>Platform</td>\n",
       "      <td>Nintendo</td>\n",
       "      <td>29.08</td>\n",
       "      <td>3.58</td>\n",
       "      <td>6.81</td>\n",
       "      <td>0.77</td>\n",
       "    </tr>\n",
       "    <tr>\n",
       "      <th>2</th>\n",
       "      <td>3</td>\n",
       "      <td>Mario Kart Wii</td>\n",
       "      <td>Wii</td>\n",
       "      <td>2008</td>\n",
       "      <td>Racing</td>\n",
       "      <td>Nintendo</td>\n",
       "      <td>15.85</td>\n",
       "      <td>12.88</td>\n",
       "      <td>3.79</td>\n",
       "      <td>3.31</td>\n",
       "    </tr>\n",
       "    <tr>\n",
       "      <th>3</th>\n",
       "      <td>4</td>\n",
       "      <td>Wii Sports Resort</td>\n",
       "      <td>Wii</td>\n",
       "      <td>2009</td>\n",
       "      <td>Sports</td>\n",
       "      <td>Nintendo</td>\n",
       "      <td>15.75</td>\n",
       "      <td>11.01</td>\n",
       "      <td>3.28</td>\n",
       "      <td>2.96</td>\n",
       "    </tr>\n",
       "    <tr>\n",
       "      <th>4</th>\n",
       "      <td>5</td>\n",
       "      <td>Pokemon Red/Pokemon Blue</td>\n",
       "      <td>GB</td>\n",
       "      <td>1996</td>\n",
       "      <td>Role-Playing</td>\n",
       "      <td>Nintendo</td>\n",
       "      <td>11.27</td>\n",
       "      <td>8.89</td>\n",
       "      <td>10.22</td>\n",
       "      <td>1.00</td>\n",
       "    </tr>\n",
       "    <tr>\n",
       "      <th>5</th>\n",
       "      <td>6</td>\n",
       "      <td>Tetris</td>\n",
       "      <td>GB</td>\n",
       "      <td>1989</td>\n",
       "      <td>Puzzle</td>\n",
       "      <td>Nintendo</td>\n",
       "      <td>23.20</td>\n",
       "      <td>2.26</td>\n",
       "      <td>4.22</td>\n",
       "      <td>0.58</td>\n",
       "    </tr>\n",
       "    <tr>\n",
       "      <th>6</th>\n",
       "      <td>7</td>\n",
       "      <td>New Super Mario Bros.</td>\n",
       "      <td>DS</td>\n",
       "      <td>2006</td>\n",
       "      <td>Platform</td>\n",
       "      <td>Nintendo</td>\n",
       "      <td>11.38</td>\n",
       "      <td>9.23</td>\n",
       "      <td>6.50</td>\n",
       "      <td>2.90</td>\n",
       "    </tr>\n",
       "    <tr>\n",
       "      <th>7</th>\n",
       "      <td>8</td>\n",
       "      <td>Wii Play</td>\n",
       "      <td>Wii</td>\n",
       "      <td>2006</td>\n",
       "      <td>Misc</td>\n",
       "      <td>Nintendo</td>\n",
       "      <td>14.03</td>\n",
       "      <td>9.20</td>\n",
       "      <td>2.93</td>\n",
       "      <td>2.85</td>\n",
       "    </tr>\n",
       "    <tr>\n",
       "      <th>8</th>\n",
       "      <td>9</td>\n",
       "      <td>New Super Mario Bros. Wii</td>\n",
       "      <td>Wii</td>\n",
       "      <td>2009</td>\n",
       "      <td>Platform</td>\n",
       "      <td>Nintendo</td>\n",
       "      <td>14.59</td>\n",
       "      <td>7.06</td>\n",
       "      <td>4.70</td>\n",
       "      <td>2.26</td>\n",
       "    </tr>\n",
       "    <tr>\n",
       "      <th>9</th>\n",
       "      <td>10</td>\n",
       "      <td>Duck Hunt</td>\n",
       "      <td>NES</td>\n",
       "      <td>1984</td>\n",
       "      <td>Shooter</td>\n",
       "      <td>Nintendo</td>\n",
       "      <td>26.93</td>\n",
       "      <td>0.63</td>\n",
       "      <td>0.28</td>\n",
       "      <td>0.47</td>\n",
       "    </tr>\n",
       "  </tbody>\n",
       "</table>\n",
       "</div>"
      ],
      "text/plain": [
       "   Rank                       Name Platform  Year         Genre Publisher  \\\n",
       "0     1                 Wii Sports      Wii  2006        Sports  Nintendo   \n",
       "1     2          Super Mario Bros.      NES  1985      Platform  Nintendo   \n",
       "2     3             Mario Kart Wii      Wii  2008        Racing  Nintendo   \n",
       "3     4          Wii Sports Resort      Wii  2009        Sports  Nintendo   \n",
       "4     5   Pokemon Red/Pokemon Blue       GB  1996  Role-Playing  Nintendo   \n",
       "5     6                     Tetris       GB  1989        Puzzle  Nintendo   \n",
       "6     7      New Super Mario Bros.       DS  2006      Platform  Nintendo   \n",
       "7     8                   Wii Play      Wii  2006          Misc  Nintendo   \n",
       "8     9  New Super Mario Bros. Wii      Wii  2009      Platform  Nintendo   \n",
       "9    10                  Duck Hunt      NES  1984       Shooter  Nintendo   \n",
       "\n",
       "   NA_Sales  EU_Sales  JP_Sales  Other_Sales  \n",
       "0     41.49     29.02      3.77         8.46  \n",
       "1     29.08      3.58      6.81         0.77  \n",
       "2     15.85     12.88      3.79         3.31  \n",
       "3     15.75     11.01      3.28         2.96  \n",
       "4     11.27      8.89     10.22         1.00  \n",
       "5     23.20      2.26      4.22         0.58  \n",
       "6     11.38      9.23      6.50         2.90  \n",
       "7     14.03      9.20      2.93         2.85  \n",
       "8     14.59      7.06      4.70         2.26  \n",
       "9     26.93      0.63      0.28         0.47  "
      ]
     },
     "execution_count": 3,
     "metadata": {},
     "output_type": "execute_result"
    }
   ],
   "source": [
    "df.head(10)"
   ]
  },
  {
   "cell_type": "markdown",
   "metadata": {},
   "source": [
    "Let's see the type of our data, to better understand the structure behind it."
   ]
  },
  {
   "cell_type": "code",
   "execution_count": 4,
   "metadata": {},
   "outputs": [
    {
     "name": "stdout",
     "output_type": "stream",
     "text": [
      "<class 'pandas.core.frame.DataFrame'>\n",
      "RangeIndex: 15979 entries, 0 to 15978\n",
      "Data columns (total 10 columns):\n",
      "Rank           15979 non-null int64\n",
      "Name           15979 non-null object\n",
      "Platform       15979 non-null object\n",
      "Year           15979 non-null int64\n",
      "Genre          15979 non-null object\n",
      "Publisher      15945 non-null object\n",
      "NA_Sales       15979 non-null float64\n",
      "EU_Sales       15979 non-null float64\n",
      "JP_Sales       15979 non-null float64\n",
      "Other_Sales    15979 non-null float64\n",
      "dtypes: float64(4), int64(2), object(4)\n",
      "memory usage: 1.2+ MB\n"
     ]
    }
   ],
   "source": [
    "df.info()"
   ]
  },
  {
   "cell_type": "markdown",
   "metadata": {},
   "source": [
    "Let's see the informations on the numerical distribution of our dataset."
   ]
  },
  {
   "cell_type": "code",
   "execution_count": 5,
   "metadata": {},
   "outputs": [
    {
     "data": {
      "text/html": [
       "<div>\n",
       "<style>\n",
       "    .dataframe thead tr:only-child th {\n",
       "        text-align: right;\n",
       "    }\n",
       "\n",
       "    .dataframe thead th {\n",
       "        text-align: left;\n",
       "    }\n",
       "\n",
       "    .dataframe tbody tr th {\n",
       "        vertical-align: top;\n",
       "    }\n",
       "</style>\n",
       "<table border=\"1\" class=\"dataframe\">\n",
       "  <thead>\n",
       "    <tr style=\"text-align: right;\">\n",
       "      <th></th>\n",
       "      <th>Rank</th>\n",
       "      <th>Year</th>\n",
       "      <th>NA_Sales</th>\n",
       "      <th>EU_Sales</th>\n",
       "      <th>JP_Sales</th>\n",
       "      <th>Other_Sales</th>\n",
       "    </tr>\n",
       "  </thead>\n",
       "  <tbody>\n",
       "    <tr>\n",
       "      <th>count</th>\n",
       "      <td>15979.000000</td>\n",
       "      <td>15979.000000</td>\n",
       "      <td>15979.00000</td>\n",
       "      <td>15979.000000</td>\n",
       "      <td>15979.000000</td>\n",
       "      <td>15979.000000</td>\n",
       "    </tr>\n",
       "    <tr>\n",
       "      <th>mean</th>\n",
       "      <td>8224.104262</td>\n",
       "      <td>2006.197071</td>\n",
       "      <td>0.26976</td>\n",
       "      <td>0.149093</td>\n",
       "      <td>0.079514</td>\n",
       "      <td>0.048892</td>\n",
       "    </tr>\n",
       "    <tr>\n",
       "      <th>std</th>\n",
       "      <td>4775.817280</td>\n",
       "      <td>5.714810</td>\n",
       "      <td>0.82956</td>\n",
       "      <td>0.512557</td>\n",
       "      <td>0.314536</td>\n",
       "      <td>0.191612</td>\n",
       "    </tr>\n",
       "    <tr>\n",
       "      <th>min</th>\n",
       "      <td>1.000000</td>\n",
       "      <td>1980.000000</td>\n",
       "      <td>0.00000</td>\n",
       "      <td>0.000000</td>\n",
       "      <td>0.000000</td>\n",
       "      <td>0.000000</td>\n",
       "    </tr>\n",
       "    <tr>\n",
       "      <th>25%</th>\n",
       "      <td>4080.500000</td>\n",
       "      <td>2003.000000</td>\n",
       "      <td>0.00000</td>\n",
       "      <td>0.000000</td>\n",
       "      <td>0.000000</td>\n",
       "      <td>0.000000</td>\n",
       "    </tr>\n",
       "    <tr>\n",
       "      <th>50%</th>\n",
       "      <td>8207.000000</td>\n",
       "      <td>2007.000000</td>\n",
       "      <td>0.08000</td>\n",
       "      <td>0.020000</td>\n",
       "      <td>0.000000</td>\n",
       "      <td>0.010000</td>\n",
       "    </tr>\n",
       "    <tr>\n",
       "      <th>75%</th>\n",
       "      <td>12332.500000</td>\n",
       "      <td>2010.000000</td>\n",
       "      <td>0.24000</td>\n",
       "      <td>0.110000</td>\n",
       "      <td>0.040000</td>\n",
       "      <td>0.040000</td>\n",
       "    </tr>\n",
       "    <tr>\n",
       "      <th>max</th>\n",
       "      <td>16600.000000</td>\n",
       "      <td>2015.000000</td>\n",
       "      <td>41.49000</td>\n",
       "      <td>29.020000</td>\n",
       "      <td>10.220000</td>\n",
       "      <td>10.570000</td>\n",
       "    </tr>\n",
       "  </tbody>\n",
       "</table>\n",
       "</div>"
      ],
      "text/plain": [
       "               Rank          Year     NA_Sales      EU_Sales      JP_Sales  \\\n",
       "count  15979.000000  15979.000000  15979.00000  15979.000000  15979.000000   \n",
       "mean    8224.104262   2006.197071      0.26976      0.149093      0.079514   \n",
       "std     4775.817280      5.714810      0.82956      0.512557      0.314536   \n",
       "min        1.000000   1980.000000      0.00000      0.000000      0.000000   \n",
       "25%     4080.500000   2003.000000      0.00000      0.000000      0.000000   \n",
       "50%     8207.000000   2007.000000      0.08000      0.020000      0.000000   \n",
       "75%    12332.500000   2010.000000      0.24000      0.110000      0.040000   \n",
       "max    16600.000000   2015.000000     41.49000     29.020000     10.220000   \n",
       "\n",
       "        Other_Sales  \n",
       "count  15979.000000  \n",
       "mean       0.048892  \n",
       "std        0.191612  \n",
       "min        0.000000  \n",
       "25%        0.000000  \n",
       "50%        0.010000  \n",
       "75%        0.040000  \n",
       "max       10.570000  "
      ]
     },
     "execution_count": 5,
     "metadata": {},
     "output_type": "execute_result"
    }
   ],
   "source": [
    "df.describe()"
   ]
  },
  {
   "cell_type": "markdown",
   "metadata": {},
   "source": [
    "Let's see the informations on the categorical distribution of our dataset."
   ]
  },
  {
   "cell_type": "code",
   "execution_count": 6,
   "metadata": {},
   "outputs": [
    {
     "data": {
      "text/html": [
       "<div>\n",
       "<style>\n",
       "    .dataframe thead tr:only-child th {\n",
       "        text-align: right;\n",
       "    }\n",
       "\n",
       "    .dataframe thead th {\n",
       "        text-align: left;\n",
       "    }\n",
       "\n",
       "    .dataframe tbody tr th {\n",
       "        vertical-align: top;\n",
       "    }\n",
       "</style>\n",
       "<table border=\"1\" class=\"dataframe\">\n",
       "  <thead>\n",
       "    <tr style=\"text-align: right;\">\n",
       "      <th></th>\n",
       "      <th>Rank</th>\n",
       "      <th>Name</th>\n",
       "      <th>Platform</th>\n",
       "      <th>Year</th>\n",
       "      <th>Genre</th>\n",
       "      <th>Publisher</th>\n",
       "      <th>NA_Sales</th>\n",
       "      <th>EU_Sales</th>\n",
       "      <th>JP_Sales</th>\n",
       "      <th>Other_Sales</th>\n",
       "    </tr>\n",
       "  </thead>\n",
       "  <tbody>\n",
       "    <tr>\n",
       "      <th>count</th>\n",
       "      <td>15979.000000</td>\n",
       "      <td>15979</td>\n",
       "      <td>15979</td>\n",
       "      <td>15979.000000</td>\n",
       "      <td>15979</td>\n",
       "      <td>15945</td>\n",
       "      <td>15979.00000</td>\n",
       "      <td>15979.000000</td>\n",
       "      <td>15979.000000</td>\n",
       "      <td>15979.000000</td>\n",
       "    </tr>\n",
       "    <tr>\n",
       "      <th>unique</th>\n",
       "      <td>NaN</td>\n",
       "      <td>11163</td>\n",
       "      <td>31</td>\n",
       "      <td>NaN</td>\n",
       "      <td>12</td>\n",
       "      <td>564</td>\n",
       "      <td>NaN</td>\n",
       "      <td>NaN</td>\n",
       "      <td>NaN</td>\n",
       "      <td>NaN</td>\n",
       "    </tr>\n",
       "    <tr>\n",
       "      <th>top</th>\n",
       "      <td>NaN</td>\n",
       "      <td>Need for Speed: Most Wanted</td>\n",
       "      <td>DS</td>\n",
       "      <td>NaN</td>\n",
       "      <td>Action</td>\n",
       "      <td>Electronic Arts</td>\n",
       "      <td>NaN</td>\n",
       "      <td>NaN</td>\n",
       "      <td>NaN</td>\n",
       "      <td>NaN</td>\n",
       "    </tr>\n",
       "    <tr>\n",
       "      <th>freq</th>\n",
       "      <td>NaN</td>\n",
       "      <td>12</td>\n",
       "      <td>2132</td>\n",
       "      <td>NaN</td>\n",
       "      <td>3133</td>\n",
       "      <td>1319</td>\n",
       "      <td>NaN</td>\n",
       "      <td>NaN</td>\n",
       "      <td>NaN</td>\n",
       "      <td>NaN</td>\n",
       "    </tr>\n",
       "    <tr>\n",
       "      <th>mean</th>\n",
       "      <td>8224.104262</td>\n",
       "      <td>NaN</td>\n",
       "      <td>NaN</td>\n",
       "      <td>2006.197071</td>\n",
       "      <td>NaN</td>\n",
       "      <td>NaN</td>\n",
       "      <td>0.26976</td>\n",
       "      <td>0.149093</td>\n",
       "      <td>0.079514</td>\n",
       "      <td>0.048892</td>\n",
       "    </tr>\n",
       "    <tr>\n",
       "      <th>std</th>\n",
       "      <td>4775.817280</td>\n",
       "      <td>NaN</td>\n",
       "      <td>NaN</td>\n",
       "      <td>5.714810</td>\n",
       "      <td>NaN</td>\n",
       "      <td>NaN</td>\n",
       "      <td>0.82956</td>\n",
       "      <td>0.512557</td>\n",
       "      <td>0.314536</td>\n",
       "      <td>0.191612</td>\n",
       "    </tr>\n",
       "    <tr>\n",
       "      <th>min</th>\n",
       "      <td>1.000000</td>\n",
       "      <td>NaN</td>\n",
       "      <td>NaN</td>\n",
       "      <td>1980.000000</td>\n",
       "      <td>NaN</td>\n",
       "      <td>NaN</td>\n",
       "      <td>0.00000</td>\n",
       "      <td>0.000000</td>\n",
       "      <td>0.000000</td>\n",
       "      <td>0.000000</td>\n",
       "    </tr>\n",
       "    <tr>\n",
       "      <th>25%</th>\n",
       "      <td>4080.500000</td>\n",
       "      <td>NaN</td>\n",
       "      <td>NaN</td>\n",
       "      <td>2003.000000</td>\n",
       "      <td>NaN</td>\n",
       "      <td>NaN</td>\n",
       "      <td>0.00000</td>\n",
       "      <td>0.000000</td>\n",
       "      <td>0.000000</td>\n",
       "      <td>0.000000</td>\n",
       "    </tr>\n",
       "    <tr>\n",
       "      <th>50%</th>\n",
       "      <td>8207.000000</td>\n",
       "      <td>NaN</td>\n",
       "      <td>NaN</td>\n",
       "      <td>2007.000000</td>\n",
       "      <td>NaN</td>\n",
       "      <td>NaN</td>\n",
       "      <td>0.08000</td>\n",
       "      <td>0.020000</td>\n",
       "      <td>0.000000</td>\n",
       "      <td>0.010000</td>\n",
       "    </tr>\n",
       "    <tr>\n",
       "      <th>75%</th>\n",
       "      <td>12332.500000</td>\n",
       "      <td>NaN</td>\n",
       "      <td>NaN</td>\n",
       "      <td>2010.000000</td>\n",
       "      <td>NaN</td>\n",
       "      <td>NaN</td>\n",
       "      <td>0.24000</td>\n",
       "      <td>0.110000</td>\n",
       "      <td>0.040000</td>\n",
       "      <td>0.040000</td>\n",
       "    </tr>\n",
       "    <tr>\n",
       "      <th>max</th>\n",
       "      <td>16600.000000</td>\n",
       "      <td>NaN</td>\n",
       "      <td>NaN</td>\n",
       "      <td>2015.000000</td>\n",
       "      <td>NaN</td>\n",
       "      <td>NaN</td>\n",
       "      <td>41.49000</td>\n",
       "      <td>29.020000</td>\n",
       "      <td>10.220000</td>\n",
       "      <td>10.570000</td>\n",
       "    </tr>\n",
       "  </tbody>\n",
       "</table>\n",
       "</div>"
      ],
      "text/plain": [
       "                Rank                         Name Platform          Year  \\\n",
       "count   15979.000000                        15979    15979  15979.000000   \n",
       "unique           NaN                        11163       31           NaN   \n",
       "top              NaN  Need for Speed: Most Wanted       DS           NaN   \n",
       "freq             NaN                           12     2132           NaN   \n",
       "mean     8224.104262                          NaN      NaN   2006.197071   \n",
       "std      4775.817280                          NaN      NaN      5.714810   \n",
       "min         1.000000                          NaN      NaN   1980.000000   \n",
       "25%      4080.500000                          NaN      NaN   2003.000000   \n",
       "50%      8207.000000                          NaN      NaN   2007.000000   \n",
       "75%     12332.500000                          NaN      NaN   2010.000000   \n",
       "max     16600.000000                          NaN      NaN   2015.000000   \n",
       "\n",
       "         Genre        Publisher     NA_Sales      EU_Sales      JP_Sales  \\\n",
       "count    15979            15945  15979.00000  15979.000000  15979.000000   \n",
       "unique      12              564          NaN           NaN           NaN   \n",
       "top     Action  Electronic Arts          NaN           NaN           NaN   \n",
       "freq      3133             1319          NaN           NaN           NaN   \n",
       "mean       NaN              NaN      0.26976      0.149093      0.079514   \n",
       "std        NaN              NaN      0.82956      0.512557      0.314536   \n",
       "min        NaN              NaN      0.00000      0.000000      0.000000   \n",
       "25%        NaN              NaN      0.00000      0.000000      0.000000   \n",
       "50%        NaN              NaN      0.08000      0.020000      0.000000   \n",
       "75%        NaN              NaN      0.24000      0.110000      0.040000   \n",
       "max        NaN              NaN     41.49000     29.020000     10.220000   \n",
       "\n",
       "         Other_Sales  \n",
       "count   15979.000000  \n",
       "unique           NaN  \n",
       "top              NaN  \n",
       "freq             NaN  \n",
       "mean        0.048892  \n",
       "std         0.191612  \n",
       "min         0.000000  \n",
       "25%         0.000000  \n",
       "50%         0.010000  \n",
       "75%         0.040000  \n",
       "max        10.570000  "
      ]
     },
     "execution_count": 6,
     "metadata": {},
     "output_type": "execute_result"
    }
   ],
   "source": [
    "df.describe(include = 'all') # include also non-numerical columns"
   ]
  },
  {
   "cell_type": "code",
   "execution_count": 7,
   "metadata": {},
   "outputs": [],
   "source": [
    "def category_describe(data, col) :\n",
    "    print(data[col].value_counts())\n",
    "    print(data[col].value_counts().describe())"
   ]
  },
  {
   "cell_type": "code",
   "execution_count": 8,
   "metadata": {},
   "outputs": [
    {
     "name": "stdout",
     "output_type": "stream",
     "text": [
      "DS      2132\n",
      "PS2     2127\n",
      "Wii     1290\n",
      "PS3     1272\n",
      "X360    1227\n",
      "PSP     1197\n",
      "PS      1189\n",
      "PC       905\n",
      "GBA      811\n",
      "XB       803\n",
      "GC       542\n",
      "3DS      465\n",
      "PSV      350\n",
      "N64      316\n",
      "SNES     239\n",
      "PS4      228\n",
      "SAT      173\n",
      "XOne     159\n",
      "WiiU     133\n",
      "2600     116\n",
      "NES       98\n",
      "GB        97\n",
      "DC        52\n",
      "GEN       27\n",
      "NG        12\n",
      "WS         6\n",
      "SCD        6\n",
      "3DO        3\n",
      "TG16       2\n",
      "GG         1\n",
      "PCFX       1\n",
      "Name: Platform, dtype: int64\n",
      "count      31.000000\n",
      "mean      515.451613\n",
      "std       620.197057\n",
      "min         1.000000\n",
      "25%        39.500000\n",
      "50%       228.000000\n",
      "75%       858.000000\n",
      "max      2132.000000\n",
      "Name: Platform, dtype: float64\n"
     ]
    }
   ],
   "source": [
    "category_describe(df, 'Platform')"
   ]
  },
  {
   "cell_type": "code",
   "execution_count": 9,
   "metadata": {},
   "outputs": [
    {
     "name": "stdout",
     "output_type": "stream",
     "text": [
      "Action          3133\n",
      "Sports          2266\n",
      "Misc            1692\n",
      "Role-Playing    1429\n",
      "Shooter         1250\n",
      "Adventure       1242\n",
      "Racing          1206\n",
      "Platform         866\n",
      "Simulation       841\n",
      "Fighting         822\n",
      "Strategy         661\n",
      "Puzzle           571\n",
      "Name: Genre, dtype: int64\n",
      "count      12.000000\n",
      "mean     1331.583333\n",
      "std       740.599445\n",
      "min       571.000000\n",
      "25%       836.250000\n",
      "50%      1224.000000\n",
      "75%      1494.750000\n",
      "max      3133.000000\n",
      "Name: Genre, dtype: float64\n"
     ]
    }
   ],
   "source": [
    "category_describe(df, 'Genre')"
   ]
  },
  {
   "cell_type": "code",
   "execution_count": 10,
   "metadata": {},
   "outputs": [
    {
     "name": "stdout",
     "output_type": "stream",
     "text": [
      "Electronic Arts                           1319\n",
      "Activision                                 952\n",
      "Ubisoft                                    904\n",
      "Namco Bandai Games                         888\n",
      "Konami Digital Entertainment               815\n",
      "THQ                                        712\n",
      "Nintendo                                   686\n",
      "Sony Computer Entertainment                677\n",
      "Sega                                       622\n",
      "Take-Two Interactive                       400\n",
      "Capcom                                     358\n",
      "Atari                                      346\n",
      "Tecmo Koei                                 321\n",
      "Disney Interactive Studios                 214\n",
      "Square Enix                                211\n",
      "Warner Bros. Interactive Entertainment     203\n",
      "Eidos Interactive                          196\n",
      "Midway Games                               196\n",
      "Microsoft Game Studios                     185\n",
      "505 Games                                  185\n",
      "Acclaim Entertainment                      184\n",
      "D3Publisher                                180\n",
      "Vivendi Games                              161\n",
      "Codemasters                                144\n",
      "Idea Factory                               120\n",
      "Deep Silver                                110\n",
      "Zoo Digital Publishing                     104\n",
      "Unknown                                     96\n",
      "Nippon Ichi Software                        92\n",
      "Majesco Entertainment                       90\n",
      "                                          ... \n",
      "KSS                                          1\n",
      "Team17 Software                              1\n",
      "Tetris Online                                1\n",
      "DreamWorks Interactive                       1\n",
      "Starpath Corp.                               1\n",
      "Evolution Games                              1\n",
      "CokeM Interactive                            1\n",
      "Paon Corporation                             1\n",
      "Just Flight                                  1\n",
      "DigiCube                                     1\n",
      "Genterprise                                  1\n",
      "Xing Entertainment                           1\n",
      "Universal Gamex                              1\n",
      "Fortyfive                                    1\n",
      "Intergrow                                    1\n",
      "Mystique                                     1\n",
      "Wargaming.net                                1\n",
      "Pony Canyon                                  1\n",
      "King Records                                 1\n",
      "Commseed                                     1\n",
      "T&E Soft                                     1\n",
      "Warp                                         1\n",
      "NDA Productions                              1\n",
      "On Demand                                    1\n",
      "PM Studios                                   1\n",
      "Origin Systems                               1\n",
      "Mirai Shounen                                1\n",
      "2D Boy                                       1\n",
      "EON Digital Entertainment                    1\n",
      "Yumedia                                      1\n",
      "Name: Publisher, Length: 564, dtype: int64\n",
      "count     564.000000\n",
      "mean       28.271277\n",
      "std       114.470187\n",
      "min         1.000000\n",
      "25%         1.000000\n",
      "50%         3.000000\n",
      "75%        11.000000\n",
      "max      1319.000000\n",
      "Name: Publisher, dtype: float64\n"
     ]
    }
   ],
   "source": [
    "category_describe(df, 'Publisher')"
   ]
  },
  {
   "cell_type": "markdown",
   "metadata": {},
   "source": [
    "Let's find out which columns has Nan values."
   ]
  },
  {
   "cell_type": "code",
   "execution_count": 11,
   "metadata": {},
   "outputs": [
    {
     "name": "stdout",
     "output_type": "stream",
     "text": [
      "Are there missing values? True\n"
     ]
    },
    {
     "data": {
      "text/plain": [
       "Rank            0\n",
       "Name            0\n",
       "Platform        0\n",
       "Year            0\n",
       "Genre           0\n",
       "Publisher      34\n",
       "NA_Sales        0\n",
       "EU_Sales        0\n",
       "JP_Sales        0\n",
       "Other_Sales     0\n",
       "dtype: int64"
      ]
     },
     "execution_count": 11,
     "metadata": {},
     "output_type": "execute_result"
    }
   ],
   "source": [
    "# checking for missing values\n",
    "print(\"Are there missing values? {}\".format(df.isnull().any().any()))\n",
    "\n",
    "df.isnull().sum()"
   ]
  },
  {
   "cell_type": "markdown",
   "metadata": {},
   "source": [
    "Let's try to know more about the games with unidentified Publisher"
   ]
  },
  {
   "cell_type": "code",
   "execution_count": 12,
   "metadata": {},
   "outputs": [
    {
     "data": {
      "text/html": [
       "<div>\n",
       "<style>\n",
       "    .dataframe thead tr:only-child th {\n",
       "        text-align: right;\n",
       "    }\n",
       "\n",
       "    .dataframe thead th {\n",
       "        text-align: left;\n",
       "    }\n",
       "\n",
       "    .dataframe tbody tr th {\n",
       "        vertical-align: top;\n",
       "    }\n",
       "</style>\n",
       "<table border=\"1\" class=\"dataframe\">\n",
       "  <thead>\n",
       "    <tr style=\"text-align: right;\">\n",
       "      <th></th>\n",
       "      <th>Rank</th>\n",
       "      <th>Name</th>\n",
       "      <th>Platform</th>\n",
       "      <th>Year</th>\n",
       "      <th>Genre</th>\n",
       "      <th>Publisher</th>\n",
       "      <th>NA_Sales</th>\n",
       "      <th>EU_Sales</th>\n",
       "      <th>JP_Sales</th>\n",
       "      <th>Other_Sales</th>\n",
       "    </tr>\n",
       "  </thead>\n",
       "  <tbody>\n",
       "    <tr>\n",
       "      <th>1632</th>\n",
       "      <td>1664</td>\n",
       "      <td>Shrek / Shrek 2 2-in-1 Gameboy Advance Video</td>\n",
       "      <td>GBA</td>\n",
       "      <td>2007</td>\n",
       "      <td>Misc</td>\n",
       "      <td>NaN</td>\n",
       "      <td>0.87</td>\n",
       "      <td>0.32</td>\n",
       "      <td>0.0</td>\n",
       "      <td>0.02</td>\n",
       "    </tr>\n",
       "    <tr>\n",
       "      <th>2178</th>\n",
       "      <td>2224</td>\n",
       "      <td>Bentley's Hackpack</td>\n",
       "      <td>GBA</td>\n",
       "      <td>2005</td>\n",
       "      <td>Misc</td>\n",
       "      <td>NaN</td>\n",
       "      <td>0.67</td>\n",
       "      <td>0.25</td>\n",
       "      <td>0.0</td>\n",
       "      <td>0.02</td>\n",
       "    </tr>\n",
       "    <tr>\n",
       "      <th>3090</th>\n",
       "      <td>3161</td>\n",
       "      <td>Nicktoons Collection: Game Boy Advance Video V...</td>\n",
       "      <td>GBA</td>\n",
       "      <td>2004</td>\n",
       "      <td>Misc</td>\n",
       "      <td>NaN</td>\n",
       "      <td>0.46</td>\n",
       "      <td>0.17</td>\n",
       "      <td>0.0</td>\n",
       "      <td>0.01</td>\n",
       "    </tr>\n",
       "    <tr>\n",
       "      <th>3097</th>\n",
       "      <td>3168</td>\n",
       "      <td>SpongeBob SquarePants: Game Boy Advance Video ...</td>\n",
       "      <td>GBA</td>\n",
       "      <td>2004</td>\n",
       "      <td>Misc</td>\n",
       "      <td>NaN</td>\n",
       "      <td>0.46</td>\n",
       "      <td>0.17</td>\n",
       "      <td>0.0</td>\n",
       "      <td>0.01</td>\n",
       "    </tr>\n",
       "    <tr>\n",
       "      <th>3685</th>\n",
       "      <td>3768</td>\n",
       "      <td>SpongeBob SquarePants: Game Boy Advance Video ...</td>\n",
       "      <td>GBA</td>\n",
       "      <td>2004</td>\n",
       "      <td>Misc</td>\n",
       "      <td>NaN</td>\n",
       "      <td>0.38</td>\n",
       "      <td>0.14</td>\n",
       "      <td>0.0</td>\n",
       "      <td>0.01</td>\n",
       "    </tr>\n",
       "    <tr>\n",
       "      <th>4428</th>\n",
       "      <td>4528</td>\n",
       "      <td>The Fairly Odd Parents: Game Boy Advance Video...</td>\n",
       "      <td>GBA</td>\n",
       "      <td>2004</td>\n",
       "      <td>Misc</td>\n",
       "      <td>NaN</td>\n",
       "      <td>0.31</td>\n",
       "      <td>0.11</td>\n",
       "      <td>0.0</td>\n",
       "      <td>0.01</td>\n",
       "    </tr>\n",
       "    <tr>\n",
       "      <th>4536</th>\n",
       "      <td>4637</td>\n",
       "      <td>The Fairly Odd Parents: Game Boy Advance Video...</td>\n",
       "      <td>GBA</td>\n",
       "      <td>2004</td>\n",
       "      <td>Misc</td>\n",
       "      <td>NaN</td>\n",
       "      <td>0.30</td>\n",
       "      <td>0.11</td>\n",
       "      <td>0.0</td>\n",
       "      <td>0.01</td>\n",
       "    </tr>\n",
       "    <tr>\n",
       "      <th>5516</th>\n",
       "      <td>5649</td>\n",
       "      <td>Cartoon Network Collection: Game Boy Advance V...</td>\n",
       "      <td>GBA</td>\n",
       "      <td>2005</td>\n",
       "      <td>Misc</td>\n",
       "      <td>NaN</td>\n",
       "      <td>0.23</td>\n",
       "      <td>0.08</td>\n",
       "      <td>0.0</td>\n",
       "      <td>0.01</td>\n",
       "    </tr>\n",
       "    <tr>\n",
       "      <th>6272</th>\n",
       "      <td>6439</td>\n",
       "      <td>Sonic X: Game Boy Advance Video Volume 1</td>\n",
       "      <td>GBA</td>\n",
       "      <td>2004</td>\n",
       "      <td>Misc</td>\n",
       "      <td>NaN</td>\n",
       "      <td>0.19</td>\n",
       "      <td>0.07</td>\n",
       "      <td>0.0</td>\n",
       "      <td>0.00</td>\n",
       "    </tr>\n",
       "    <tr>\n",
       "      <th>6396</th>\n",
       "      <td>6564</td>\n",
       "      <td>Dora the Explorer: Game Boy Advance Video Volu...</td>\n",
       "      <td>GBA</td>\n",
       "      <td>2004</td>\n",
       "      <td>Misc</td>\n",
       "      <td>NaN</td>\n",
       "      <td>0.18</td>\n",
       "      <td>0.07</td>\n",
       "      <td>0.0</td>\n",
       "      <td>0.00</td>\n",
       "    </tr>\n",
       "  </tbody>\n",
       "</table>\n",
       "</div>"
      ],
      "text/plain": [
       "      Rank                                               Name Platform  Year  \\\n",
       "1632  1664       Shrek / Shrek 2 2-in-1 Gameboy Advance Video      GBA  2007   \n",
       "2178  2224                                 Bentley's Hackpack      GBA  2005   \n",
       "3090  3161  Nicktoons Collection: Game Boy Advance Video V...      GBA  2004   \n",
       "3097  3168  SpongeBob SquarePants: Game Boy Advance Video ...      GBA  2004   \n",
       "3685  3768  SpongeBob SquarePants: Game Boy Advance Video ...      GBA  2004   \n",
       "4428  4528  The Fairly Odd Parents: Game Boy Advance Video...      GBA  2004   \n",
       "4536  4637  The Fairly Odd Parents: Game Boy Advance Video...      GBA  2004   \n",
       "5516  5649  Cartoon Network Collection: Game Boy Advance V...      GBA  2005   \n",
       "6272  6439           Sonic X: Game Boy Advance Video Volume 1      GBA  2004   \n",
       "6396  6564  Dora the Explorer: Game Boy Advance Video Volu...      GBA  2004   \n",
       "\n",
       "     Genre Publisher  NA_Sales  EU_Sales  JP_Sales  Other_Sales  \n",
       "1632  Misc       NaN      0.87      0.32       0.0         0.02  \n",
       "2178  Misc       NaN      0.67      0.25       0.0         0.02  \n",
       "3090  Misc       NaN      0.46      0.17       0.0         0.01  \n",
       "3097  Misc       NaN      0.46      0.17       0.0         0.01  \n",
       "3685  Misc       NaN      0.38      0.14       0.0         0.01  \n",
       "4428  Misc       NaN      0.31      0.11       0.0         0.01  \n",
       "4536  Misc       NaN      0.30      0.11       0.0         0.01  \n",
       "5516  Misc       NaN      0.23      0.08       0.0         0.01  \n",
       "6272  Misc       NaN      0.19      0.07       0.0         0.00  \n",
       "6396  Misc       NaN      0.18      0.07       0.0         0.00  "
      ]
     },
     "execution_count": 12,
     "metadata": {},
     "output_type": "execute_result"
    }
   ],
   "source": [
    "#Let's affect this specific dataframe, as we will use it several times\n",
    "publisher_null_df = df[df['Publisher'].isnull()]\n",
    "publisher_null_df.head(10)"
   ]
  },
  {
   "cell_type": "code",
   "execution_count": 13,
   "metadata": {},
   "outputs": [
    {
     "data": {
      "text/html": [
       "<div>\n",
       "<style>\n",
       "    .dataframe thead tr:only-child th {\n",
       "        text-align: right;\n",
       "    }\n",
       "\n",
       "    .dataframe thead th {\n",
       "        text-align: left;\n",
       "    }\n",
       "\n",
       "    .dataframe tbody tr th {\n",
       "        vertical-align: top;\n",
       "    }\n",
       "</style>\n",
       "<table border=\"1\" class=\"dataframe\">\n",
       "  <thead>\n",
       "    <tr style=\"text-align: right;\">\n",
       "      <th></th>\n",
       "      <th>Rank</th>\n",
       "      <th>Year</th>\n",
       "      <th>NA_Sales</th>\n",
       "      <th>EU_Sales</th>\n",
       "      <th>JP_Sales</th>\n",
       "      <th>Other_Sales</th>\n",
       "    </tr>\n",
       "  </thead>\n",
       "  <tbody>\n",
       "    <tr>\n",
       "      <th>count</th>\n",
       "      <td>34.000000</td>\n",
       "      <td>34.000000</td>\n",
       "      <td>34.000000</td>\n",
       "      <td>34.000000</td>\n",
       "      <td>34.0</td>\n",
       "      <td>34.000000</td>\n",
       "    </tr>\n",
       "    <tr>\n",
       "      <th>mean</th>\n",
       "      <td>9117.911765</td>\n",
       "      <td>2006.264706</td>\n",
       "      <td>0.170000</td>\n",
       "      <td>0.071471</td>\n",
       "      <td>0.0</td>\n",
       "      <td>0.002941</td>\n",
       "    </tr>\n",
       "    <tr>\n",
       "      <th>std</th>\n",
       "      <td>4554.649242</td>\n",
       "      <td>3.422818</td>\n",
       "      <td>0.199909</td>\n",
       "      <td>0.071314</td>\n",
       "      <td>0.0</td>\n",
       "      <td>0.005789</td>\n",
       "    </tr>\n",
       "    <tr>\n",
       "      <th>min</th>\n",
       "      <td>1664.000000</td>\n",
       "      <td>2004.000000</td>\n",
       "      <td>0.000000</td>\n",
       "      <td>0.000000</td>\n",
       "      <td>0.0</td>\n",
       "      <td>0.000000</td>\n",
       "    </tr>\n",
       "    <tr>\n",
       "      <th>25%</th>\n",
       "      <td>6470.250000</td>\n",
       "      <td>2004.000000</td>\n",
       "      <td>0.015000</td>\n",
       "      <td>0.022500</td>\n",
       "      <td>0.0</td>\n",
       "      <td>0.000000</td>\n",
       "    </tr>\n",
       "    <tr>\n",
       "      <th>50%</th>\n",
       "      <td>8356.500000</td>\n",
       "      <td>2004.000000</td>\n",
       "      <td>0.120000</td>\n",
       "      <td>0.050000</td>\n",
       "      <td>0.0</td>\n",
       "      <td>0.000000</td>\n",
       "    </tr>\n",
       "    <tr>\n",
       "      <th>75%</th>\n",
       "      <td>13617.500000</td>\n",
       "      <td>2009.250000</td>\n",
       "      <td>0.187500</td>\n",
       "      <td>0.095000</td>\n",
       "      <td>0.0</td>\n",
       "      <td>0.000000</td>\n",
       "    </tr>\n",
       "    <tr>\n",
       "      <th>max</th>\n",
       "      <td>16556.000000</td>\n",
       "      <td>2014.000000</td>\n",
       "      <td>0.870000</td>\n",
       "      <td>0.320000</td>\n",
       "      <td>0.0</td>\n",
       "      <td>0.020000</td>\n",
       "    </tr>\n",
       "  </tbody>\n",
       "</table>\n",
       "</div>"
      ],
      "text/plain": [
       "               Rank         Year   NA_Sales   EU_Sales  JP_Sales  Other_Sales\n",
       "count     34.000000    34.000000  34.000000  34.000000      34.0    34.000000\n",
       "mean    9117.911765  2006.264706   0.170000   0.071471       0.0     0.002941\n",
       "std     4554.649242     3.422818   0.199909   0.071314       0.0     0.005789\n",
       "min     1664.000000  2004.000000   0.000000   0.000000       0.0     0.000000\n",
       "25%     6470.250000  2004.000000   0.015000   0.022500       0.0     0.000000\n",
       "50%     8356.500000  2004.000000   0.120000   0.050000       0.0     0.000000\n",
       "75%    13617.500000  2009.250000   0.187500   0.095000       0.0     0.000000\n",
       "max    16556.000000  2014.000000   0.870000   0.320000       0.0     0.020000"
      ]
     },
     "execution_count": 13,
     "metadata": {},
     "output_type": "execute_result"
    }
   ],
   "source": [
    "publisher_null_df.describe()"
   ]
  },
  {
   "cell_type": "markdown",
   "metadata": {},
   "source": [
    "Let's drop the null values. As there is not much of them (34 for 15979 in total), it won't make much of a difference."
   ]
  },
  {
   "cell_type": "code",
   "execution_count": 14,
   "metadata": {},
   "outputs": [],
   "source": [
    "df = df.dropna()"
   ]
  },
  {
   "cell_type": "markdown",
   "metadata": {},
   "source": [
    "## 1. How have the total sales of console games been declining over the years by different genres?"
   ]
  },
  {
   "cell_type": "markdown",
   "metadata": {},
   "source": [
    "**Create the total sales of console games feature**"
   ]
  },
  {
   "cell_type": "code",
   "execution_count": 15,
   "metadata": {},
   "outputs": [],
   "source": [
    "df['Total_Sales'] = df['NA_Sales'] + df['EU_Sales'] + df['JP_Sales'] + df['Other_Sales']"
   ]
  },
  {
   "cell_type": "code",
   "execution_count": 16,
   "metadata": {},
   "outputs": [
    {
     "data": {
      "image/png": "[encoded data removed]",
      "text/plain": [
       "<matplotlib.figure.Figure at 0x7fa4db753b70>"
      ]
     },
     "metadata": {},
     "output_type": "display_data"
    }
   ],
   "source": [
    "# See 'Explore Happiness Data Using Python Pivot Tables': https://www.dataquest.io/blog/pandas-pivot-table/\n",
    "\n",
    "df_pivot_table = df.pivot_table(values = 'Total_Sales', index = 'Year', columns = 'Genre', aggfunc = 'sum')\n",
    "df_pivot_table.plot(kind = 'area', figsize = (12, 6))\n",
    "plt.title('Total sales over the years')\n",
    "plt.ylabel('Total sales')\n",
    "plt.show()"
   ]
  },
  {
   "cell_type": "markdown",
   "metadata": {},
   "source": [
    "**Observation**  \n",
    "Console games sales have been rapidly declining since 2008. Possibly, this could be attributed to the rising popularity of mobile devices and associated games."
   ]
  },
  {
   "cell_type": "markdown",
   "metadata": {},
   "source": [
    "## 2. How do different platforms compare side-by-side in terms of aggregate global sales since their inceptions? Who is the leader? "
   ]
  },
  {
   "cell_type": "code",
   "execution_count": 17,
   "metadata": {},
   "outputs": [
    {
     "data": {
      "image/png": "[encoded data removed]",
      "text/plain": [
       "<matplotlib.figure.Figure at 0x7fa4db5b1908>"
      ]
     },
     "metadata": {},
     "output_type": "display_data"
    }
   ],
   "source": [
    "df_pivot_table = df.pivot_table(values = 'Total_Sales', index = 'Platform', aggfunc = 'sum').sort_values('Total_Sales')\n",
    "df_pivot_table = df_pivot_table[df_pivot_table['Total_Sales'] > 5] # filter out platforms with smaller total sales\n",
    "df_pivot_table.plot(kind = 'barh', legend = None, figsize = (12, 12))\n",
    "plt.xlabel('Total sales')\n",
    "plt.show()"
   ]
  },
  {
   "cell_type": "markdown",
   "metadata": {},
   "source": [
    "**Observation**  \n",
    "The all-time leader in the Global Games Sales among platforms is PS2 making $1.2B+"
   ]
  },
  {
   "cell_type": "markdown",
   "metadata": {},
   "source": [
    "## 3. How do different publishers compare side-by-side in terms of aggregate global sales since their inceptions? Who is the leader? "
   ]
  },
  {
   "cell_type": "code",
   "execution_count": 18,
   "metadata": {},
   "outputs": [
    {
     "data": {
      "image/png": "[encoded data removed]",
      "text/plain": [
       "<matplotlib.figure.Figure at 0x7fa4db477b00>"
      ]
     },
     "metadata": {},
     "output_type": "display_data"
    }
   ],
   "source": [
    "df_pivot_table = df.pivot_table(values = 'Total_Sales', index = 'Publisher', aggfunc = 'sum').sort_values('Total_Sales', ascending = False)\n",
    "df_pivot_table = df_pivot_table[df_pivot_table['Total_Sales'] > 100] # filter out publishers with smaller total sales\n",
    "df_pivot_table.plot(kind = 'bar', legend = None, figsize = (12, 6))\n",
    "plt.ylabel('Total sales')\n",
    "plt.show()"
   ]
  },
  {
   "cell_type": "code",
   "execution_count": 19,
   "metadata": {},
   "outputs": [
    {
     "data": {
      "image/png": "[encoded data removed]",
      "text/plain": [
       "<matplotlib.figure.Figure at 0x7fa4db381e10>"
      ]
     },
     "metadata": {},
     "output_type": "display_data"
    }
   ],
   "source": [
    "# See: https://github.com/laserson/squarify\n",
    "import squarify\n",
    "\n",
    "# create a color palette, mapped to Total_Sales\n",
    "total_sales = df_pivot_table['Total_Sales'].tolist()\n",
    "cmap = matplotlib.cm.Reds\n",
    "mini=min(total_sales)\n",
    "maxi=max(total_sales)\n",
    "norm = matplotlib.colors.Normalize(vmin=mini, vmax=maxi)\n",
    "colors = [cmap(norm(value)) for value in total_sales]\n",
    "\n",
    "max_label_size = 15\n",
    "labels = df_pivot_table.index.tolist()\n",
    "labels = [(label[:max_label_size] + '..') if len(label) > max_label_size else label for label in labels]\n",
    "labels = [label + '\\n' + '${:,.0f} M'.format(total_sales[idx]) for idx, label in enumerate(labels)]\n",
    "\n",
    "plt.figure(figsize=(20, 10))\n",
    "squarify.plot(sizes = total_sales, label = labels, alpha=.8, color=colors)\n",
    "plt.axis('off')\n",
    "plt.rc('font', size=16)\n",
    "plt.show()"
   ]
  },
  {
   "cell_type": "markdown",
   "metadata": {},
   "source": [
    "**Observation**  \n",
    "In terms of publishers, Nintendo is the leader in Global Games Sales in $1.7B+ terms, however EA, Activision and Sony are leading in quantity of game titles."
   ]
  },
  {
   "cell_type": "markdown",
   "metadata": {},
   "source": [
    "## 4. How do the New Generation (New Gen) consoles compare in terms of total global sales for combined 2014 and 2015?\n",
    "\n",
    "New Gen platforms in this dataset are **PS4**, **XOne** and **WiiU**."
   ]
  },
  {
   "cell_type": "code",
   "execution_count": 20,
   "metadata": {},
   "outputs": [],
   "source": [
    "df_year_filter = df['Year'].between(2014, 2015, inclusive = True)\n",
    "df_platform_filter = df['Platform'].isin(['PS4', 'XOne', 'WiiU'])\n",
    "df_pivot_table = df[df_year_filter & df_platform_filter].pivot_table('Total_Sales', index = 'Platform', aggfunc = 'sum')\n"
   ]
  },
  {
   "cell_type": "code",
   "execution_count": 21,
   "metadata": {},
   "outputs": [
    {
     "data": {
      "image/png": "[encoded data removed]",
      "text/plain": [
       "<matplotlib.figure.Figure at 0x7fa4db4cb358>"
      ]
     },
     "metadata": {},
     "output_type": "display_data"
    }
   ],
   "source": [
    "df_pivot_table.plot(y = 'Total_Sales', labels = df_pivot_table.index, kind = 'pie',\n",
    "                    autopct = '%1.1f%%', startangle = 90, legend = False, fontsize = 14, figsize = (12, 12))\n",
    "plt.axis('off')\n",
    "plt.show()"
   ]
  },
  {
   "cell_type": "markdown",
   "metadata": {},
   "source": [
    "**Observation**  \n",
    "The Global Games Sales leader among new Gen consoles is PS4 accounting for more than half of the sales of all three platforms."
   ]
  },
  {
   "cell_type": "markdown",
   "metadata": {},
   "source": [
    "## 5. What are the top 10 game titles with the highest global sales?"
   ]
  },
  {
   "cell_type": "code",
   "execution_count": 22,
   "metadata": {},
   "outputs": [
    {
     "data": {
      "image/png": "[encoded data removed]",
      "text/plain": [
       "<matplotlib.figure.Figure at 0x7fa4db1f06d8>"
      ]
     },
     "metadata": {},
     "output_type": "display_data"
    }
   ],
   "source": [
    "df_pivot_table = df.pivot_table(values = 'Total_Sales', index = 'Name', aggfunc = 'sum').sort_values('Total_Sales', ascending = False)\n",
    "df_pivot_table = df_pivot_table.head(10) # filter out 10 top game titles\n",
    "\n",
    "# create a color palette, mapped to Publisher\n",
    "#\n",
    "# unique_games = df.drop_duplicates('Name')[['Name', 'Publisher']].set_index('Name')\n",
    "# df_pivot_table['Publisher'] = df_pivot_table.index.map(lambda game: unique_games.loc[game]['Publisher'])\n",
    "# unique_publisher = df_pivot_table.drop_duplicates('Publisher')['Publisher'].tolist()\n",
    "# cmap = matplotlib.cm.tab20c\n",
    "# mini=0\n",
    "# maxi=len(unique_publisher)\n",
    "# norm = matplotlib.colors.Normalize(vmin=mini, vmax=maxi)\n",
    "# colors = [cmap(norm(unique_publisher.index(game[1]))) for game in df_pivot_table.values]\n",
    "#\n",
    "# df_pivot_table.plot(kind = 'bar', legend = None, color = colors, figsize = (12, 6))\n",
    "\n",
    "df_pivot_table.plot(kind = 'bar', legend = None, color = 'darkred', figsize = (12, 6))\n",
    "plt.xlabel('Game title')\n",
    "plt.ylabel('Total sales')\n",
    "plt.show()"
   ]
  },
  {
   "cell_type": "markdown",
   "metadata": {},
   "source": [
    "**Observation**  \n",
    "Top 10 game titles in terms of all-time Global Games Sales."
   ]
  }
 ],
 "metadata": {
  "kernelspec": {
   "display_name": "Python 3",
   "language": "python",
   "name": "python3"
  },
  "language_info": {
   "codemirror_mode": {
    "name": "ipython",
    "version": 3
   },
   "file_extension": ".py",
   "mimetype": "text/x-python",
   "name": "python",
   "nbconvert_exporter": "python",
   "pygments_lexer": "ipython3",
   "version": "3.6.5"
  },
  "widgets": {
   "state": {},
   "version": "1.1.2"
  }
 },
 "nbformat": 4,
 "nbformat_minor": 2
}
