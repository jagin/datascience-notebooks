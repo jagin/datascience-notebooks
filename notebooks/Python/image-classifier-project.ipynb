{
 "cells": [
  {
   "cell_type": "markdown",
   "metadata": {},
   "source": [
    "# Image Classifier Project\n",
    "\n",
    "Going forward, AI algorithms will be incorporated into more and more everyday applications. For example, you might want to include an image classifier in a smart phone app. To do this, you'd use a deep learning model trained on hundreds of thousands of images as part of the overall application architecture. A large part of software development in the future will be using these types of models as common parts of applications."
   ]
  },
  {
   "cell_type": "markdown",
   "metadata": {},
   "source": [
    "## Credits\n",
    "\n",
    "This notebook is a part of my learning path based on [Data Scientist Nanodegree Program](https://eu.udacity.com/course/data-scientist-nanodegree--nd025) enrollment."
   ]
  },
  {
   "cell_type": "markdown",
   "metadata": {},
   "source": [
    "## Getting Started\n",
    "\n",
    "In this project, you'll train an image classifier to recognize different species of flowers. You can imagine using something like this in a phone app that tells you the name of the flower your camera is looking at. In practice you'd train this classifier, then export it for use in your application. We'll be using [this dataset](http://www.robots.ox.ac.uk/~vgg/data/flowers/102/index.html) of 102 flower categories, you can see a few examples below. \n",
    "\n",
    "<img src='../../assets/Flowers.png' width=500px>\n",
    "\n",
    "Here are some addition links that might help you further your understanding:\n",
    " - https://arxiv.org/ftp/arxiv/papers/1708/1708.03763.pdf\n",
    " - https://www.robots.ox.ac.uk/~vgg/research/flowers_demo/docs/Chai11.pdf\n",
    "\n",
    "The project is broken down into multiple steps:\n",
    "\n",
    "* Load and preprocess the image dataset\n",
    "* Train the image classifier on your dataset\n",
    "* Use the trained classifier to predict image content\n",
    "\n",
    "With this project, you'll have an application that can be trained on any set of labeled images. Here your network will be learning about flowers. But, what you do with your new skills depends on your imagination and effort in building a dataset. For example, imagine an app where you take a picture of a car, it tells you what the make and model is, then looks up information about it. Go build your own dataset and make something new.\n",
    "\n",
    "First up is importing the packages you'll need. It's good practice to keep all the imports at the beginning of your code."
   ]
  },
  {
   "cell_type": "code",
   "execution_count": 1,
   "metadata": {},
   "outputs": [],
   "source": [
    "import torch\n",
    "import torch.nn as nn\n",
    "import torch.optim as optim\n",
    "import torch.optim.lr_scheduler as lr_scheduler\n",
    "import torch.utils.data as data\n",
    "from torch.autograd import Variable\n",
    "\n",
    "import torchvision\n",
    "import torchvision.transforms as transforms\n",
    "import torchvision.datasets as datasets\n",
    "import torchvision.models as models\n",
    "\n",
    "import copy\n",
    "import time\n",
    "\n",
    "import numpy as np\n",
    "import matplotlib.pyplot as plt\n",
    "import matplotlib.image as mpimg\n",
    "\n",
    "from PIL import Image"
   ]
  },
  {
   "cell_type": "markdown",
   "metadata": {},
   "source": [
    "## Load the data\n",
    "\n",
    "Here you'll use `torchvision` to load the data ([documentation](http://pytorch.org/docs/0.3.0/torchvision/index.html)). The data should be included alongside this notebook, otherwise you can [download it here](https://s3.amazonaws.com/content.udacity-data.com/nd089/flower_data.tar.gz). The dataset is split into three parts, training, validation, and testing. For the training, you'll want to apply transformations such as random scaling, cropping, and flipping. This will help the network generalize leading to better performance. You'll also need to make sure the input data is resized to 224x224 pixels as required by the pre-trained networks.\n",
    "\n",
    "The validation and testing sets are used to measure the model's performance on data it hasn't seen yet. For this you don't want any scaling or rotation transformations, but you'll need to resize then crop the images to the appropriate size.\n",
    "\n",
    "The pre-trained networks you'll use were trained on the ImageNet dataset where each color channel was normalized separately. For all three sets you'll need to normalize the means and standard deviations of the images to what the network expects. For the means, it's `[0.485, 0.456, 0.406]` and for the standard deviations `[0.229, 0.224, 0.225]`, calculated from the ImageNet images.  These values will shift each color channel to be centered at 0 and range from -1 to 1.\n",
    " "
   ]
  },
  {
   "cell_type": "markdown",
   "metadata": {},
   "source": [
    "To download the data into the *datascience-notebook* conatiner you need to open the container console with:\n",
    "```\n",
    "docker exec -it datascience-notebook bash\n",
    "\n",
    "```\n",
    "and inside the container run the following commands\n",
    "```\n",
    "wget https://s3.amazonaws.com/content.udacity-data.com/nd089/flower_data.tar.gz\n",
    "md ./work/data/flowers\n",
    "tar xf flower_data.tar.gz -C ./work/data/flowers\n",
    "rm flower_data.tar.gz\n",
    "```"
   ]
  },
  {
   "cell_type": "code",
   "execution_count": 2,
   "metadata": {},
   "outputs": [],
   "source": [
    "data_dir = '../../data/flowers'\n",
    "train_dir = data_dir + '/train'\n",
    "valid_dir = data_dir + '/valid'\n",
    "test_dir = data_dir + '/test'"
   ]
  },
  {
   "cell_type": "code",
   "execution_count": 3,
   "metadata": {},
   "outputs": [],
   "source": [
    "# Define your transforms for the training, validation, and testing sets\n",
    "data_transforms = {\n",
    "    'train': transforms.Compose([\n",
    "        transforms.RandomRotation(45),\n",
    "        transforms.RandomResizedCrop(224),\n",
    "        transforms.RandomHorizontalFlip(),        \n",
    "        transforms.ToTensor(),\n",
    "        transforms.Normalize(mean=[0.485, 0.456, 0.406], std=[0.229, 0.224, 0.225])\n",
    "    ]),\n",
    "    'valid': transforms.Compose([\n",
    "        transforms.Resize(256),\n",
    "        transforms.CenterCrop(224),        \n",
    "        transforms.ToTensor(),\n",
    "        transforms.Normalize(mean=[0.485, 0.456, 0.406], std=[0.229, 0.224, 0.225])\n",
    "    ]),\n",
    "    'test': transforms.Compose([\n",
    "        transforms.Resize(256),\n",
    "        transforms.CenterCrop(224),        \n",
    "        transforms.ToTensor(),\n",
    "        transforms.Normalize(mean=[0.485, 0.456, 0.406], std=[0.229, 0.224, 0.225])\n",
    "    ])    \n",
    "}\n",
    "\n",
    "# Load the datasets with ImageFolder\n",
    "image_datasets = {\n",
    "    'train': datasets.ImageFolder(root=train_dir, transform=data_transforms['train']),\n",
    "    'valid': datasets.ImageFolder(root=valid_dir, transform=data_transforms['valid']),\n",
    "    'test': datasets.ImageFolder(root=test_dir, transform=data_transforms['test'])\n",
    "}\n",
    "\n",
    "# Using the image datasets and the trainforms, define the dataloaders\n",
    "dataloaders = {\n",
    "    'train': data.DataLoader(image_datasets['train'], batch_size=4, shuffle=True, num_workers=2),\n",
    "    'valid': data.DataLoader(image_datasets['valid'], batch_size=4, shuffle=True, num_workers=2),\n",
    "    'test': data.DataLoader(image_datasets['test'], batch_size=4, shuffle=True, num_workers=2)\n",
    "}"
   ]
  },
  {
   "cell_type": "markdown",
   "metadata": {},
   "source": [
    "### Label mapping\n",
    "\n",
    "You'll also need to load in a mapping from category label to category name. You can find this in the file `cat_to_name.json`. It's a JSON object which you can read in with the [`json` module](https://docs.python.org/2/library/json.html). This will give you a dictionary mapping the integer encoded categories to the actual names of the flowers."
   ]
  },
  {
   "cell_type": "code",
   "execution_count": 4,
   "metadata": {},
   "outputs": [],
   "source": [
    "import json\n",
    "\n",
    "with open('../../data/cat_to_name.json', 'r') as f:\n",
    "    cat_to_name = json.load(f)"
   ]
  },
  {
   "cell_type": "markdown",
   "metadata": {},
   "source": [
    "# Building and training the classifier\n",
    "\n",
    "Now that the data is ready, it's time to build and train the classifier. As usual, you should use one of the pretrained models from `torchvision.models` to get the image features. Build and train a new feed-forward classifier using those features.\n",
    "\n",
    "Things you'll need to do:\n",
    "\n",
    "* Load a [pre-trained network](http://pytorch.org/docs/master/torchvision/models.html) (If you need a starting point, the VGG networks work great and are straightforward to use)\n",
    "* Define a new, untrained feed-forward network as a classifier, using ReLU activations and dropout\n",
    "* Train the classifier layers using backpropagation using the pre-trained network to get the features\n",
    "* Track the loss and accuracy on the validation set to determine the best hyperparameters\n",
    "\n",
    "When training make sure you're updating only the weights of the feed-forward network. You should be able to get the validation accuracy above 70% if you build everything right. Make sure to try different hyperparameters (learning rate, units in the classifier, epochs, etc) to find the best model. Save those hyperparameters to use as default values in the next part of the project."
   ]
  },
  {
   "cell_type": "code",
   "execution_count": 5,
   "metadata": {},
   "outputs": [],
   "source": [
    "# See: https://pytorch.org/tutorials/beginner/transfer_learning_tutorial.html\n",
    "\n",
    "def build_model(num_labels, hidden_units=2048, arch='vgg19'):\n",
    "    # Load a pre-trained model\n",
    "    if arch=='vgg19':\n",
    "        model = models.vgg19(pretrained=True)\n",
    "    elif arch=='alexnet':\n",
    "        model = models.alexnet(pretrained=True)\n",
    "    else:\n",
    "        raise ValueError('Usupported network architecture', arch)\n",
    "    \n",
    "    # Freeze its parameters\n",
    "    for param in model.parameters():\n",
    "        param.requires_grad = False\n",
    "    \n",
    "    # Extract features only by removing the last layer\n",
    "    features = list(model.classifier.children())[:-1]\n",
    "    \n",
    "    # Number of filters in the bottleneck layer\n",
    "    num_filters = model.classifier[len(features)].in_features\n",
    "    \n",
    "    # Extend the existing architecture with new classification layers  \n",
    "    features.extend([\n",
    "        nn.Dropout(),\n",
    "        nn.Linear(num_filters, hidden_units),\n",
    "        nn.ReLU(True),\n",
    "        nn.Linear(hidden_units, hidden_units),\n",
    "        nn.ReLU(True),\n",
    "        nn.Linear(hidden_units, num_labels),\n",
    "    ])\n",
    "    \n",
    "    # Other version of the classification layers to try\n",
    "    #features.extend([\n",
    "    #    nn.Linear(num_filters, 2048),\n",
    "    #    nn.ReLU(),\n",
    "    #    nn.Linear(2048, 1024),\n",
    "    #    nn.ReLU(),\n",
    "    #    nn.Linear(1024, 512),\n",
    "    #    nn.ReLU(),\n",
    "    #    nn.Linear(512, num_labels),\n",
    "    #])\n",
    "    \n",
    "    model.classifier = nn.Sequential(*features)\n",
    "    \n",
    "    return model"
   ]
  },
  {
   "cell_type": "code",
   "execution_count": 6,
   "metadata": {},
   "outputs": [
    {
     "name": "stdout",
     "output_type": "stream",
     "text": [
      "Using: CPU\n"
     ]
    }
   ],
   "source": [
    "# Build model\n",
    "\n",
    "num_labels = len(image_datasets['train'].classes)\n",
    "hidden_units = 2048\n",
    "arch='alexnet'\n",
    "\n",
    "model = build_model(num_labels, hidden_units, arch)\n",
    "\n",
    "# Use gpu if available\n",
    "if torch.cuda.is_available():\n",
    "    print('Using: GPU')\n",
    "    device = torch.device(\"cuda:0\")\n",
    "    model.cuda()\n",
    "else:\n",
    "    print('Using: CPU')\n",
    "    device = torch.device(\"cpu\")"
   ]
  },
  {
   "cell_type": "code",
   "execution_count": 7,
   "metadata": {},
   "outputs": [
    {
     "name": "stdout",
     "output_type": "stream",
     "text": [
      "Epochs: 20\n",
      "Learning rate: 0.001\n",
      "\n",
      "Epoch 1/20\n",
      "train Loss: 2.8451 Accuracy: 0.3144\n",
      "valid Loss: 1.3634 Accuracy: 0.6174\n",
      "\n",
      "Epoch 2/20\n",
      "train Loss: 1.8066 Accuracy: 0.5171\n",
      "valid Loss: 1.0344 Accuracy: 0.7066\n",
      "\n",
      "Epoch 3/20\n",
      "train Loss: 1.5736 Accuracy: 0.5684\n",
      "valid Loss: 0.8820 Accuracy: 0.7445\n",
      "\n",
      "Epoch 4/20\n",
      "train Loss: 1.4503 Accuracy: 0.6006\n",
      "valid Loss: 0.8190 Accuracy: 0.7641\n",
      "\n",
      "Epoch 5/20\n",
      "train Loss: 1.3675 Accuracy: 0.6171\n",
      "valid Loss: 0.7938 Accuracy: 0.7751\n",
      "\n",
      "Epoch 6/20\n",
      "train Loss: 1.2994 Accuracy: 0.6360\n",
      "valid Loss: 0.7473 Accuracy: 0.7897\n",
      "\n",
      "Epoch 7/20\n",
      "train Loss: 1.2756 Accuracy: 0.6426\n",
      "valid Loss: 0.6934 Accuracy: 0.8130\n",
      "\n",
      "Epoch 8/20\n",
      "train Loss: 1.0444 Accuracy: 0.7097\n",
      "valid Loss: 0.5386 Accuracy: 0.8557\n",
      "\n",
      "Epoch 9/20\n",
      "train Loss: 0.9794 Accuracy: 0.7237\n",
      "valid Loss: 0.5152 Accuracy: 0.8582\n",
      "\n",
      "Epoch 10/20\n",
      "train Loss: 0.9448 Accuracy: 0.7279\n",
      "valid Loss: 0.4999 Accuracy: 0.8619\n",
      "\n",
      "Epoch 11/20\n",
      "train Loss: 0.9486 Accuracy: 0.7288\n",
      "valid Loss: 0.4880 Accuracy: 0.8619\n",
      "\n",
      "Epoch 12/20\n",
      "train Loss: 0.8881 Accuracy: 0.7384\n",
      "valid Loss: 0.4876 Accuracy: 0.8631\n",
      "\n",
      "Epoch 13/20\n",
      "train Loss: 0.9068 Accuracy: 0.7460\n",
      "valid Loss: 0.4777 Accuracy: 0.8741\n",
      "\n",
      "Epoch 14/20\n",
      "train Loss: 0.8762 Accuracy: 0.7430\n",
      "valid Loss: 0.4821 Accuracy: 0.8619\n",
      "\n",
      "Epoch 15/20\n",
      "train Loss: 0.8624 Accuracy: 0.7544\n",
      "valid Loss: 0.4705 Accuracy: 0.8680\n",
      "\n",
      "Epoch 16/20\n",
      "train Loss: 0.8653 Accuracy: 0.7476\n",
      "valid Loss: 0.4646 Accuracy: 0.8680\n",
      "\n",
      "Epoch 17/20\n",
      "train Loss: 0.8449 Accuracy: 0.7524\n",
      "valid Loss: 0.4620 Accuracy: 0.8729\n",
      "\n",
      "Epoch 18/20\n",
      "train Loss: 0.8379 Accuracy: 0.7552\n",
      "valid Loss: 0.4615 Accuracy: 0.8692\n",
      "\n",
      "Epoch 19/20\n",
      "train Loss: 0.8599 Accuracy: 0.7579\n",
      "valid Loss: 0.4597 Accuracy: 0.8692\n",
      "\n",
      "Epoch 20/20\n",
      "train Loss: 0.8659 Accuracy: 0.7477\n",
      "valid Loss: 0.4614 Accuracy: 0.8716\n",
      "\n",
      "Training completed in 118m 40s\n",
      "Best Accuracy: 0.874083\n"
     ]
    }
   ],
   "source": [
    "# Train the classifier layers using backpropagation using the pre-trained network to get the features\n",
    "\n",
    "epochs=20\n",
    "learning_rate = 0.001\n",
    "\n",
    "print('Epochs:', epochs)\n",
    "print('Learning rate:', learning_rate)\n",
    "    \n",
    "# Defining criterion, optimizer and scheduler\n",
    "criterion = nn.CrossEntropyLoss()\n",
    "optimizer = optim.SGD(filter(lambda p: p.requires_grad, model.parameters()), lr=learning_rate, momentum=0.9) # only parameters that require gradients are optimized\n",
    "scheduler = lr_scheduler.StepLR(optimizer, step_size=7, gamma=0.1)\n",
    "\n",
    "best_model_state = copy.deepcopy(model.state_dict())\n",
    "best_model_accuracy = 0.0\n",
    "time_start = time.time()\n",
    "\n",
    "for epoch in range(epochs):\n",
    "    print()\n",
    "    print('Epoch {}/{}'.format(epoch + 1, epochs))\n",
    "    \n",
    "    for phase in ['train', 'valid']:\n",
    "        is_train = phase == 'train'\n",
    "        is_valid = phase == 'valid'\n",
    "        \n",
    "        if is_train:\n",
    "            scheduler.step()\n",
    "            model.train()  # Set model to training mode\n",
    "        else:\n",
    "            model.eval()   # Set model to evaluate mode\n",
    "            \n",
    "        running_loss = 0.0\n",
    "        running_corrects = 0\n",
    "        \n",
    "        # Iterate over data.\n",
    "        for inputs, labels in dataloaders[phase]:                \n",
    "            inputs = inputs.to(device)\n",
    "            labels = labels.to(device)\n",
    "            \n",
    "            # Clear the gradients, do this because gradients are accumulated\n",
    "            optimizer.zero_grad()\n",
    "            \n",
    "            with torch.set_grad_enabled(is_train): # track history if only in train\n",
    "                # forward pass\n",
    "                outputs = model(inputs)\n",
    "                _, preds = torch.max(outputs, 1)\n",
    "                loss = criterion(outputs, labels)\n",
    "\n",
    "                # backward pass and optimize only if in training phase\n",
    "                if is_train:\n",
    "                    loss.backward()\n",
    "                    optimizer.step()\n",
    "                    \n",
    "            # get statistics\n",
    "            running_loss += loss.item() * inputs.size(0)\n",
    "            running_corrects += torch.sum(preds == labels.data)\n",
    "            \n",
    "        epoch_loss = running_loss/len(dataloaders[phase].dataset)\n",
    "        epoch_accuracy = running_corrects.double()/len(dataloaders[phase].dataset)\n",
    "        \n",
    "        print('{} Loss: {:.4f} Accuracy: {:.4f}'.format(phase, epoch_loss, epoch_accuracy))\n",
    "\n",
    "        # deep copy the model\n",
    "        if is_valid and epoch_accuracy > best_model_accuracy:\n",
    "            best_model_accuracy = epoch_accuracy\n",
    "            best_model_state = copy.deepcopy(model.state_dict())\n",
    "            \n",
    "time_end = time.time() - time_start\n",
    "print()\n",
    "print('Training completed in {:.0f}m {:.0f}s'.format(time_end // 60, time_end % 60))\n",
    "print('Best Accuracy: {:4f}'.format(best_model_accuracy))\n",
    "    \n",
    "# Load best model weights\n",
    "model.load_state_dict(best_model_state)\n",
    "\n",
    "# Store class_to_idx into a model property\n",
    "model.class_to_idx = image_datasets['train'].class_to_idx"
   ]
  },
  {
   "cell_type": "markdown",
   "metadata": {},
   "source": [
    "## Testing your network\n",
    "\n",
    "It's good practice to test your trained network on test data, images the network has never seen either in training or validation. This will give you a good estimate for the model's performance on completely new images. Run the test images through the network and measure the accuracy, the same way you did validation. You should be able to reach around 70% accuracy on the test set if the model has been trained well."
   ]
  },
  {
   "cell_type": "code",
   "execution_count": 8,
   "metadata": {},
   "outputs": [
    {
     "name": "stdout",
     "output_type": "stream",
     "text": [
      "Accuracy of the network on the test images: 84 %\n"
     ]
    }
   ],
   "source": [
    "# Validation on the test set\n",
    "\n",
    "correct = 0\n",
    "total = 0\n",
    "\n",
    "with torch.no_grad():\n",
    "    for inputs, labels in dataloaders['test']:\n",
    "        inputs = inputs.to(device)\n",
    "        labels = labels.to(device)\n",
    "        \n",
    "        outputs = model(inputs)\n",
    "        _, predicted = torch.max(outputs.data, 1)\n",
    "        total += labels.size(0)\n",
    "        correct += (predicted == labels).sum().item()\n",
    "\n",
    "    print('Accuracy of the network on the test images: %d %%' % (100*correct/total))"
   ]
  },
  {
   "cell_type": "markdown",
   "metadata": {},
   "source": [
    "## Save the checkpoint\n",
    "\n",
    "Now that your network is trained, save the model so you can load it later for making predictions. You probably want to save other things such as the mapping of classes to indices which you get from one of the image datasets: `image_datasets['train'].class_to_idx`. You can attach this to the model as an attribute which makes inference easier later on.\n",
    "\n",
    "```model.class_to_idx = image_datasets['train'].class_to_idx```\n",
    "\n",
    "Remember that you'll want to completely rebuild the model later so you can use it for inference. Make sure to include any information you need in the checkpoint. If you want to load the model and keep training, you'll want to save the number of epochs as well as the optimizer state, `optimizer.state_dict`. You'll likely want to use this trained model in the future, so best to save it now."
   ]
  },
  {
   "cell_type": "code",
   "execution_count": 9,
   "metadata": {},
   "outputs": [],
   "source": [
    "# Save the checkpoint\n",
    "\n",
    "import os\n",
    "\n",
    "output_dir = '../../output'\n",
    "\n",
    "if not os.path.exists(output_dir):\n",
    "    os.makedirs(output_dir)\n",
    "\n",
    "checkpoint_dict = {\n",
    "    'arch': arch,\n",
    "    'hidden_units': hidden_units,\n",
    "    'class_to_idx': model.class_to_idx, \n",
    "    'state_dict': model.state_dict(),\n",
    "}\n",
    "\n",
    "torch.save(checkpoint_dict, output_dir + '/model.pth')"
   ]
  },
  {
   "cell_type": "markdown",
   "metadata": {},
   "source": [
    "## Loading the checkpoint\n",
    "\n",
    "At this point it's good to write a function that can load a checkpoint and rebuild the model. That way you can come back to this project and keep working on it without having to retrain the network."
   ]
  },
  {
   "cell_type": "code",
   "execution_count": 10,
   "metadata": {},
   "outputs": [],
   "source": [
    "# Load a checkpoint and rebuilds the model\n",
    "\n",
    "checkpoint_dict = torch.load(output_dir + '/model.pth')\n",
    "\n",
    "num_labels = len(checkpoint_dict['class_to_idx'])\n",
    "hidden_units = checkpoint_dict['hidden_units']\n",
    "arch = checkpoint_dict['arch']\n",
    "\n",
    "model = build_model(num_labels, hidden_units, arch)\n",
    "model.load_state_dict(checkpoint_dict['state_dict'])\n",
    "model.class_to_idx = checkpoint_dict['class_to_idx']\n",
    "\n",
    "if torch.cuda.is_available():\n",
    "    model.cuda()"
   ]
  },
  {
   "cell_type": "markdown",
   "metadata": {},
   "source": [
    "# Inference for classification\n",
    "\n",
    "Now you'll write a function to use a trained network for inference. That is, you'll pass an image into the network and predict the class of the flower in the image. Write a function called `predict` that takes an image and a model, then returns the top $K$ most likely classes along with the probabilities. It should look like \n",
    "\n",
    "```python\n",
    "probs, classes = predict(image_path, model)\n",
    "print(probs)\n",
    "print(classes)\n",
    "> [ 0.01558163  0.01541934  0.01452626  0.01443549  0.01407339]\n",
    "> ['70', '3', '45', '62', '55']\n",
    "```\n",
    "\n",
    "First you'll need to handle processing the input image such that it can be used in your network. \n",
    "\n",
    "## Image Preprocessing\n",
    "\n",
    "You'll want to use `PIL` to load the image ([documentation](https://pillow.readthedocs.io/en/latest/reference/Image.html)). It's best to write a function that preprocesses the image so it can be used as input for the model. This function should process the images in the same manner used for training. \n",
    "\n",
    "First, resize the images where the shortest side is 256 pixels, keeping the aspect ratio. This can be done with the [`thumbnail`](http://pillow.readthedocs.io/en/3.1.x/reference/Image.html#PIL.Image.Image.thumbnail) or [`resize`](http://pillow.readthedocs.io/en/3.1.x/reference/Image.html#PIL.Image.Image.thumbnail) methods. Then you'll need to crop out the center 224x224 portion of the image.\n",
    "\n",
    "Color channels of images are typically encoded as integers 0-255, but the model expected floats 0-1. You'll need to convert the values. It's easiest with a Numpy array, which you can get from a PIL image like so `np_image = np.array(pil_image)`.\n",
    "\n",
    "As before, the network expects the images to be normalized in a specific way. For the means, it's `[0.485, 0.456, 0.406]` and for the standard deviations `[0.229, 0.224, 0.225]`. You'll want to subtract the means from each color channel, then divide by the standard deviation. \n",
    "\n",
    "And finally, PyTorch expects the color channel to be the first dimension but it's the third dimension in the PIL image and Numpy array. You can reorder dimensions using [`ndarray.transpose`](https://docs.scipy.org/doc/numpy-1.13.0/reference/generated/numpy.ndarray.transpose.html). The color channel needs to be first and retain the order of the other two dimensions."
   ]
  },
  {
   "cell_type": "code",
   "execution_count": 11,
   "metadata": {},
   "outputs": [],
   "source": [
    "def process_image(image):\n",
    "    ''' Scales, crops, and normalizes a PIL image for a PyTorch model,\n",
    "        returns an Numpy array\n",
    "    '''\n",
    "    \n",
    "    # Process a PIL image for use in a PyTorch model\n",
    "    img_loader = transforms.Compose([\n",
    "        transforms.Resize(256), \n",
    "        transforms.CenterCrop(224), \n",
    "        transforms.ToTensor()])\n",
    "    \n",
    "    pil_image = Image.open(image)\n",
    "    pil_image = img_loader(pil_image).float()\n",
    "    \n",
    "    np_image = np.array(pil_image)    \n",
    "    \n",
    "    mean = np.array([0.485, 0.456, 0.406])\n",
    "    std = np.array([0.229, 0.224, 0.225])\n",
    "    np_image = (np.transpose(np_image, (1, 2, 0)) - mean)/std    \n",
    "    np_image = np.transpose(np_image, (2, 0, 1))\n",
    "            \n",
    "    return np_image    "
   ]
  },
  {
   "cell_type": "markdown",
   "metadata": {},
   "source": [
    "To check your work, the function below converts a PyTorch tensor and displays it in the notebook. If your `process_image` function works, running the output through this function should return the original image (except for the cropped out portions)."
   ]
  },
  {
   "cell_type": "code",
   "execution_count": 12,
   "metadata": {},
   "outputs": [],
   "source": [
    "def imshow(image, ax=None, title=None):\n",
    "    \"\"\"Imshow for Tensor.\"\"\"\n",
    "    if ax is None:\n",
    "        fig, ax = plt.subplots()\n",
    "    \n",
    "    # PyTorch tensors assume the color channel is the first dimension\n",
    "    # but matplotlib assumes is the third dimension\n",
    "    image = image.transpose((1, 2, 0))\n",
    "    \n",
    "    # Undo preprocessing\n",
    "    mean = np.array([0.485, 0.456, 0.406])\n",
    "    std = np.array([0.229, 0.224, 0.225])\n",
    "    image = std * image + mean\n",
    "    \n",
    "    # Image needs to be clipped between 0 and 1 or it looks like noise when displayed\n",
    "    image = np.clip(image, 0, 1)\n",
    "    \n",
    "    ax.imshow(image)\n",
    "    \n",
    "    return ax"
   ]
  },
  {
   "cell_type": "markdown",
   "metadata": {},
   "source": [
    "## Class Prediction\n",
    "\n",
    "Once you can get images in the correct format, it's time to write a function for making predictions with your model. A common practice is to predict the top 5 or so (usually called top-$K$) most probable classes. You'll want to calculate the class probabilities then find the $K$ largest values.\n",
    "\n",
    "To get the top $K$ largest values in a tensor use [`x.topk(k)`](http://pytorch.org/docs/master/torch.html#torch.topk). This method returns both the highest `k` probabilities and the indices of those probabilities corresponding to the classes. You need to convert from these indices to the actual class labels using `class_to_idx` which hopefully you added to the model or from an `ImageFolder` you used to load the data ([see here](#Save-the-checkpoint)). Make sure to invert the dictionary so you get a mapping from index to class as well.\n",
    "\n",
    "Again, this method should take a path to an image and a model checkpoint, then return the probabilities and classes.\n",
    "\n",
    "```python\n",
    "probs, classes = predict(image_path, model)\n",
    "print(probs)\n",
    "print(classes)\n",
    "> [ 0.01558163  0.01541934  0.01452626  0.01443549  0.01407339]\n",
    "> ['70', '3', '45', '62', '55']\n",
    "```"
   ]
  },
  {
   "cell_type": "code",
   "execution_count": 13,
   "metadata": {},
   "outputs": [],
   "source": [
    "def predict(image_path, model, topk=5):\n",
    "    ''' Predict the class (or classes) of an image using a trained deep learning model.\n",
    "    '''\n",
    "    model.eval()\n",
    "    \n",
    "    # Predict the class from an image file\n",
    "    image = process_image(image_path)\n",
    "    image = Variable(torch.FloatTensor(image), requires_grad=True)\n",
    "    image = image.unsqueeze(0) # this is for VGG   \n",
    "        \n",
    "    if torch.cuda.is_available():     \n",
    "        image = image.cuda()   \n",
    "    \n",
    "    result = model(image).topk(topk)\n",
    "    \n",
    "    if torch.cuda.is_available():\n",
    "        probs = torch.nn.functional.softmax(result[0].data, dim=1).cpu().numpy()[0]\n",
    "        classes = result[1].data.cpu().numpy()[0]\n",
    "    else:       \n",
    "        probs = torch.nn.functional.softmax(result[0].data, dim=1).numpy()[0]\n",
    "        classes = result[1].data.numpy()[0]\n",
    "        \n",
    "    classes = [list(model.class_to_idx.keys())[list(model.class_to_idx.values()).index(x)] for x in classes]\n",
    "    \n",
    "    return probs, classes"
   ]
  },
  {
   "cell_type": "markdown",
   "metadata": {},
   "source": [
    "## Sanity Checking\n",
    "\n",
    "Now that you can use a trained model for predictions, check to make sure it makes sense. Even if the testing accuracy is high, it's always good to check that there aren't obvious bugs. Use `matplotlib` to plot the probabilities for the top 5 classes as a bar graph, along with the input image. It should look like this:\n",
    "\n",
    "<img src='../../assets/inference_example.png' width=300px>\n",
    "\n",
    "You can convert from the class integer encoding to actual flower names with the `cat_to_name.json` file (should have been loaded earlier in the notebook). To show a PyTorch tensor as an image, use the `imshow` function defined above."
   ]
  },
  {
   "cell_type": "code",
   "execution_count": 14,
   "metadata": {},
   "outputs": [
    {
     "name": "stdout",
     "output_type": "stream",
     "text": [
      "[ 0.93374914  0.03146943  0.01762117  0.00990481  0.00725547]\n",
      "['8', '93', '77', '99', '21']\n",
      "['bird of paradise', 'ball moss', 'passion flower', 'bromelia', 'fire lily']\n",
      "[('bird of paradise', 0.93374914), ('ball moss', 0.031469434), ('passion flower', 0.017621165), ('bromelia', 0.0099048093), ('fire lily', 0.0072554681)]\n"
     ]
    },
    {
     "data": {
      "image/png": "[encoded data removed]",
      "text/plain": [
       "<Figure size 432x288 with 2 Axes>"
      ]
     },
     "metadata": {},
     "output_type": "display_data"
    }
   ],
   "source": [
    "# Display an image along with the top 5 classes\n",
    "\n",
    "sample_img = \"../../assets/bird_of_paradise_sample.jpg\"\n",
    "\n",
    "probs, classes = predict(sample_img, model)\n",
    "labels = [cat_to_name[x] for x in classes]\n",
    "\n",
    "print(probs)\n",
    "print(classes)\n",
    "print(labels)\n",
    "print(list(zip(labels, probs)))\n",
    "\n",
    "# Display an image along with the top 5 classes\n",
    "img = mpimg.imread(sample_img)\n",
    "\n",
    "f, axarr = plt.subplots(2,1)\n",
    "\n",
    "axarr[0].imshow(img)\n",
    "axarr[0].set_title('bird of paradise')\n",
    "\n",
    "y_pos = np.arange(len(classes))\n",
    "\n",
    "axarr[1].barh(y_pos, probs, align='center', color='blue')\n",
    "axarr[1].set_yticks(y_pos)\n",
    "axarr[1].set_yticklabels(labels)\n",
    "axarr[1].invert_yaxis()  # labels read top-to-bottom\n",
    "_ = axarr[1].set_xlabel('Probs')"
   ]
  },
  {
   "cell_type": "markdown",
   "metadata": {},
   "source": [
    "## Command line application"
   ]
  },
  {
   "cell_type": "markdown",
   "metadata": {},
   "source": [
    "Now that you've built and trained a deep neural network on the flower data set, you can convert it into an application that others can use. Your application should be a pair of Python scripts that run from the command line. For testing, you could use the checkpoint you saved in the first part."
   ]
  },
  {
   "cell_type": "markdown",
   "metadata": {},
   "source": [
    "### Train"
   ]
  },
  {
   "cell_type": "markdown",
   "metadata": {},
   "source": [
    "You can train a new network on a data set with `train.py`\n",
    "\n",
    "Basic usage: `python train.py data_directory`\n",
    "\n",
    "Options:\n",
    " - set directory to save checkpoints: `python train.py data_dir --checkpoint checkpoint_file_path`\n",
    " - choose architecture: `python train.py data_dir --arch \"vgg13\"`\n",
    " - set hyperparameters: `python train.py data_dir --learning_rate 0.01 --hidden_units 512 --epochs 20`\n",
    " - use GPU for training: `python train.py data_dir --gpu`"
   ]
  },
  {
   "cell_type": "code",
   "execution_count": 15,
   "metadata": {},
   "outputs": [
    {
     "name": "stdout",
     "output_type": "stream",
     "text": [
      "usage: train.py [-h] [--hidden_units HIDDEN_UNITS] [--arch ARCH]\r\n",
      "                [--epochs EPOCHS] [--learning_rate LEARNING_RATE] [--gpu]\r\n",
      "                [--checkpoint CHECKPOINT]\r\n",
      "                data_dir\r\n",
      "\r\n",
      "positional arguments:\r\n",
      "  data_dir              Path to dataset\r\n",
      "\r\n",
      "optional arguments:\r\n",
      "  -h, --help            show this help message and exit\r\n",
      "  --hidden_units HIDDEN_UNITS\r\n",
      "                        Number of hidden units\r\n",
      "  --arch ARCH           Model architecture\r\n",
      "  --epochs EPOCHS       Number of epochs\r\n",
      "  --learning_rate LEARNING_RATE\r\n",
      "                        Learning rate\r\n",
      "  --gpu                 Use GPU if available\r\n",
      "  --checkpoint CHECKPOINT\r\n",
      "                        Save trained model checkpoint to file\r\n"
     ]
    }
   ],
   "source": [
    "! python scripts/train.py -h"
   ]
  },
  {
   "cell_type": "code",
   "execution_count": 16,
   "metadata": {},
   "outputs": [
    {
     "name": "stdout",
     "output_type": "stream",
     "text": [
      "Network architecture: alexnet\n",
      "Number of hidden units: 1024\n",
      "Number of epochs: 2\n",
      "Learning rate: 0.01\n",
      "Using: CPU\n",
      "\n",
      "Epoch 1/2\n",
      "train Loss: 4.4872 Accuracy: 0.1132\n",
      "valid Loss: 4.5779 Accuracy: 0.1064\n",
      "\n",
      "Epoch 2/2\n",
      "train Loss: 4.5677 Accuracy: 0.0472\n",
      "valid Loss: 4.4453 Accuracy: 0.0379\n",
      "\n",
      "Training completed in 10m 6s\n",
      "Best Accuracy: 0.106357\n",
      "Saving checkpoint to: ../../output/model.pth\n"
     ]
    }
   ],
   "source": [
    "! python scripts/train.py ../../data/flowers --checkpoint ../../output/model.pth --arch alexnet --hidden_units 1024 --learning_rate 0.01 --epochs 2"
   ]
  },
  {
   "cell_type": "markdown",
   "metadata": {},
   "source": [
    "### Predict"
   ]
  },
  {
   "cell_type": "markdown",
   "metadata": {},
   "source": [
    "Predict flower name from an image with `predict.py` along with the probability of that name. That is, you'll pass in a single image /path/to/image and return the flower name and class probability.\n",
    "\n",
    "Basic usage: `python predict.py /path/to/image checkpoint`\n",
    "\n",
    "Options:\n",
    " - return top KK most likely classes: `python predict.py input checkpoint --top_k 3`\n",
    " - use a mapping of categories to real names: `python predict.py input checkpoint --category_names cat_to_name.json`\n",
    " - use GPU for inference: `python predict.py input checkpoint --gpu`"
   ]
  },
  {
   "cell_type": "code",
   "execution_count": 17,
   "metadata": {},
   "outputs": [
    {
     "name": "stdout",
     "output_type": "stream",
     "text": [
      "usage: predict.py [-h] [--category_names CATEGORY_NAMES] [--top_k TOP_K]\r\n",
      "                  [--gpu]\r\n",
      "                  image_path checkpoint\r\n",
      "\r\n",
      "positional arguments:\r\n",
      "  image_path            Image to predict\r\n",
      "  checkpoint            Model checkpoint to use when predicting\r\n",
      "\r\n",
      "optional arguments:\r\n",
      "  -h, --help            show this help message and exit\r\n",
      "  --category_names CATEGORY_NAMES\r\n",
      "                        JSON file containing category names\r\n",
      "  --top_k TOP_K         Return top K predictions\r\n",
      "  --gpu                 Use GPU if available\r\n"
     ]
    }
   ],
   "source": [
    "! python scripts/predict.py -h"
   ]
  },
  {
   "cell_type": "code",
   "execution_count": 18,
   "metadata": {},
   "outputs": [
    {
     "name": "stdout",
     "output_type": "stream",
     "text": [
      "[('passion flower', 0.29349256), ('spring crocus', 0.26019049), ('great masterwort', 0.17028153), ('camellia', 0.15447263), ('petunia', 0.12156274)]\r\n"
     ]
    }
   ],
   "source": [
    "! python scripts/predict.py ../../assets/bird_of_paradise_sample.jpg ../../output/model.pth \\\n",
    "    --category_names ../../data/cat_to_name.json"
   ]
  }
 ],
 "metadata": {
  "kernelspec": {
   "display_name": "Python 3",
   "language": "python",
   "name": "python3"
  },
  "language_info": {
   "codemirror_mode": {
    "name": "ipython",
    "version": 3
   },
   "file_extension": ".py",
   "mimetype": "text/x-python",
   "name": "python",
   "nbconvert_exporter": "python",
   "pygments_lexer": "ipython3",
   "version": "3.6.5"
  }
 },
 "nbformat": 4,
 "nbformat_minor": 2
}
